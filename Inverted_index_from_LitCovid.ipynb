{
  "nbformat": 4,
  "nbformat_minor": 0,
  "metadata": {
    "colab": {
      "name": "Inverted_index_from_LitCovid.ipynb",
      "provenance": [],
      "collapsed_sections": [],
      "mount_file_id": "1eaRUCxQva_vU4qcBz-fVRMRRGEQEYgoU",
      "authorship_tag": "ABX9TyN/5uu1Hq9Q/6Ibp9EQ+Q0R",
      "include_colab_link": true
    },
    "kernelspec": {
      "name": "python3",
      "display_name": "Python 3"
    }
  },
  "cells": [
    {
      "cell_type": "markdown",
      "metadata": {
        "id": "view-in-github",
        "colab_type": "text"
      },
      "source": [
        "<a href=\"https://colab.research.google.com/github/soares-f/JMeSH/blob/main/Inverted_index_from_LitCovid.ipynb\" target=\"_parent\"><img src=\"https://colab.research.google.com/assets/colab-badge.svg\" alt=\"Open In Colab\"/></a>"
      ]
    },
    {
      "cell_type": "markdown",
      "metadata": {
        "id": "Ly_3wkUF1lfh"
      },
      "source": [
        "Extracting LitCovid in local env\r\n",
        "\r\n",
        "\r\n"
      ]
    },
    {
      "cell_type": "code",
      "metadata": {
        "colab": {
          "base_uri": "https://localhost:8080/"
        },
        "id": "vyaB_bjT3_GM",
        "outputId": "30aff376-dbdd-448c-8b30-d87454f7f990"
      },
      "source": [
        "!wget https://ftp.ncbi.nlm.nih.gov/pub/lu/LitCovid/litcovid2pubtator.xml.gz"
      ],
      "execution_count": 1,
      "outputs": [
        {
          "output_type": "stream",
          "text": [
            "--2021-01-19 13:48:28--  https://ftp.ncbi.nlm.nih.gov/pub/lu/LitCovid/litcovid2pubtator.xml.gz\n",
            "Resolving ftp.ncbi.nlm.nih.gov (ftp.ncbi.nlm.nih.gov)... 130.14.250.13, 2607:f220:41e:250::10, 2607:f220:41e:250::11, ...\n",
            "Connecting to ftp.ncbi.nlm.nih.gov (ftp.ncbi.nlm.nih.gov)|130.14.250.13|:443... connected.\n",
            "HTTP request sent, awaiting response... 200 OK\n",
            "Length: 528266354 (504M) [application/x-gzip]\n",
            "Saving to: ‘litcovid2pubtator.xml.gz’\n",
            "\n",
            "litcovid2pubtator.x 100%[===================>] 503.79M  70.6MB/s    in 6.3s    \n",
            "\n",
            "2021-01-19 13:48:34 (79.8 MB/s) - ‘litcovid2pubtator.xml.gz’ saved [528266354/528266354]\n",
            "\n"
          ],
          "name": "stdout"
        }
      ]
    },
    {
      "cell_type": "code",
      "metadata": {
        "id": "BbISAQ1a0q1r"
      },
      "source": [
        "!gunzip litcovid2pubtator.xml.gz"
      ],
      "execution_count": 2,
      "outputs": []
    },
    {
      "cell_type": "code",
      "metadata": {
        "colab": {
          "base_uri": "https://localhost:8080/"
        },
        "id": "mo_18JAD4bIq",
        "outputId": "4c8d75b3-2170-471a-8952-c9558d5952b0"
      },
      "source": [
        "!head litcovid2pubtator.xml"
      ],
      "execution_count": 3,
      "outputs": [
        {
          "output_type": "stream",
          "text": [
            "<?xml version='1.0' encoding='UTF-8'?><!DOCTYPE collection SYSTEM 'BioC.dtd'>\n",
            "<!-- \n",
            "===========================================================================\n",
            "*\n",
            "*                            PUBLIC DOMAIN NOTICE\n",
            "*               National Center for Biotechnology Information\n",
            "*\n",
            "*  This software/database is a \"United States Government Work\" under the\n",
            "*  terms of the United States Copyright Act.  It was written as part of\n",
            "*  the author's official duties as a United States Government employee and\n"
          ],
          "name": "stdout"
        }
      ]
    },
    {
      "cell_type": "code",
      "metadata": {
        "colab": {
          "base_uri": "https://localhost:8080/"
        },
        "id": "7W6H5jkM2Mu2",
        "outputId": "17fce089-e9b8-4d09-a6d1-9da9edc0e579"
      },
      "source": [
        "pip install bioc"
      ],
      "execution_count": 2,
      "outputs": [
        {
          "output_type": "stream",
          "text": [
            "Requirement already satisfied: bioc in /usr/local/lib/python3.6/dist-packages (1.3.6)\n",
            "Requirement already satisfied: docutils==0.15.2 in /usr/local/lib/python3.6/dist-packages (from bioc) (0.15.2)\n",
            "Requirement already satisfied: jsonlines==1.2.0 in /usr/local/lib/python3.6/dist-packages (from bioc) (1.2.0)\n",
            "Requirement already satisfied: lxml==4.4.1 in /usr/local/lib/python3.6/dist-packages (from bioc) (4.4.1)\n",
            "Requirement already satisfied: six in /usr/local/lib/python3.6/dist-packages (from jsonlines==1.2.0->bioc) (1.15.0)\n"
          ],
          "name": "stdout"
        }
      ]
    },
    {
      "cell_type": "code",
      "metadata": {
        "id": "Wj3HlFm827ba"
      },
      "source": [
        "filename = 'litcovid2pubtator.xml'"
      ],
      "execution_count": 1,
      "outputs": []
    },
    {
      "cell_type": "code",
      "metadata": {
        "colab": {
          "base_uri": "https://localhost:8080/"
        },
        "id": "AQGdhU3P2_eo",
        "outputId": "c2916806-d211-4f06-811d-6b6f8352bde1"
      },
      "source": [
        "from nltk import tokenize\r\n",
        "nltk.download('punkt')"
      ],
      "execution_count": 18,
      "outputs": [
        {
          "output_type": "stream",
          "text": [
            "[nltk_data] Downloading package punkt to /root/nltk_data...\n",
            "[nltk_data]   Unzipping tokenizers/punkt.zip.\n"
          ],
          "name": "stdout"
        },
        {
          "output_type": "execute_result",
          "data": {
            "text/plain": [
              "True"
            ]
          },
          "metadata": {
            "tags": []
          },
          "execution_count": 18
        }
      ]
    },
    {
      "cell_type": "code",
      "metadata": {
        "id": "ByrumRxv2Y7K"
      },
      "source": [
        "import bioc\r\n",
        "# read from a ByteIO\r\n",
        "with open(filename, 'rb') as fp:\r\n",
        "    reader = bioc.BioCXMLDocumentReader(fp)\r\n",
        "    collection_info = reader.get_collection_info()\r\n",
        "    for document in reader:\r\n",
        "        print(document)\r\n",
        "        "
      ],
      "execution_count": null,
      "outputs": []
    },
    {
      "cell_type": "code",
      "metadata": {
        "colab": {
          "base_uri": "https://localhost:8080/"
        },
        "id": "1M2vOd0e3WPy",
        "outputId": "c3faa8c6-080c-4b84-ec07-6180be2ad4b9"
      },
      "source": [
        "document.passages[1].annotations[0].infons"
      ],
      "execution_count": 27,
      "outputs": [
        {
          "output_type": "execute_result",
          "data": {
            "text/plain": [
              "{'Identifier': 'MESH:C000657245', 'type': 'Disease'}"
            ]
          },
          "metadata": {
            "tags": []
          },
          "execution_count": 27
        }
      ]
    },
    {
      "cell_type": "code",
      "metadata": {
        "id": "GnLnAG-z7XyT"
      },
      "source": [
        "def get_lens_passage(passage):\r\n",
        "  sentences = tokenize.sent_tokenize(passage.text)\r\n",
        "  lens_sentences = []\r\n",
        "  for sentence in sentences:\r\n",
        "    lens_sentences.append(len(sentence))\r\n",
        "  return(lens_sentences)"
      ],
      "execution_count": 21,
      "outputs": []
    },
    {
      "cell_type": "code",
      "metadata": {
        "colab": {
          "base_uri": "https://localhost:8080/"
        },
        "id": "LjX1UGFp9qYn",
        "outputId": "764ca93a-a06e-486a-b4d7-e87fdbfb66fe"
      },
      "source": [
        "def extract_annotations_passage(passsage, type_of_annotation='MESH'):\r\n",
        "  for annotation in passage.annotations:\r\n",
        "    if a\r\n"
      ],
      "execution_count": 23,
      "outputs": [
        {
          "output_type": "stream",
          "text": [
            "[70]\n"
          ],
          "name": "stdout"
        }
      ]
    }
  ]
}