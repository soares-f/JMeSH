{
  "nbformat": 4,
  "nbformat_minor": 0,
  "metadata": {
    "colab": {
      "name": "Inverted_index_from_LitCovid.ipynb",
      "provenance": [],
      "collapsed_sections": [],
      "mount_file_id": "1eaRUCxQva_vU4qcBz-fVRMRRGEQEYgoU",
      "authorship_tag": "ABX9TyO9pKh0R2D7tsPXaPqp3pUh",
      "include_colab_link": true
    },
    "kernelspec": {
      "name": "python3",
      "display_name": "Python 3"
    }
  },
  "cells": [
    {
      "cell_type": "markdown",
      "metadata": {
        "id": "view-in-github",
        "colab_type": "text"
      },
      "source": [
        "<a href=\"https://colab.research.google.com/github/soares-f/JMeSH/blob/main/Inverted_index_from_LitCovid.ipynb\" target=\"_parent\"><img src=\"https://colab.research.google.com/assets/colab-badge.svg\" alt=\"Open In Colab\"/></a>"
      ]
    },
    {
      "cell_type": "markdown",
      "metadata": {
        "id": "Ly_3wkUF1lfh"
      },
      "source": [
        "Extracting LitCovid in local env\r\n",
        "\r\n",
        "\r\n"
      ]
    },
    {
      "cell_type": "code",
      "metadata": {
        "colab": {
          "base_uri": "https://localhost:8080/"
        },
        "id": "vyaB_bjT3_GM",
        "outputId": "30aff376-dbdd-448c-8b30-d87454f7f990"
      },
      "source": [
        "!wget https://ftp.ncbi.nlm.nih.gov/pub/lu/LitCovid/litcovid2pubtator.xml.gz"
      ],
      "execution_count": 1,
      "outputs": [
        {
          "output_type": "stream",
          "text": [
            "--2021-01-19 13:48:28--  https://ftp.ncbi.nlm.nih.gov/pub/lu/LitCovid/litcovid2pubtator.xml.gz\n",
            "Resolving ftp.ncbi.nlm.nih.gov (ftp.ncbi.nlm.nih.gov)... 130.14.250.13, 2607:f220:41e:250::10, 2607:f220:41e:250::11, ...\n",
            "Connecting to ftp.ncbi.nlm.nih.gov (ftp.ncbi.nlm.nih.gov)|130.14.250.13|:443... connected.\n",
            "HTTP request sent, awaiting response... 200 OK\n",
            "Length: 528266354 (504M) [application/x-gzip]\n",
            "Saving to: ‘litcovid2pubtator.xml.gz’\n",
            "\n",
            "litcovid2pubtator.x 100%[===================>] 503.79M  70.6MB/s    in 6.3s    \n",
            "\n",
            "2021-01-19 13:48:34 (79.8 MB/s) - ‘litcovid2pubtator.xml.gz’ saved [528266354/528266354]\n",
            "\n"
          ],
          "name": "stdout"
        }
      ]
    },
    {
      "cell_type": "code",
      "metadata": {
        "id": "BbISAQ1a0q1r"
      },
      "source": [
        "!gunzip litcovid2pubtator.xml.gz"
      ],
      "execution_count": 2,
      "outputs": []
    },
    {
      "cell_type": "code",
      "metadata": {
        "colab": {
          "base_uri": "https://localhost:8080/"
        },
        "id": "mo_18JAD4bIq",
        "outputId": "4c8d75b3-2170-471a-8952-c9558d5952b0"
      },
      "source": [
        "!head litcovid2pubtator.xml"
      ],
      "execution_count": 3,
      "outputs": [
        {
          "output_type": "stream",
          "text": [
            "<?xml version='1.0' encoding='UTF-8'?><!DOCTYPE collection SYSTEM 'BioC.dtd'>\n",
            "<!-- \n",
            "===========================================================================\n",
            "*\n",
            "*                            PUBLIC DOMAIN NOTICE\n",
            "*               National Center for Biotechnology Information\n",
            "*\n",
            "*  This software/database is a \"United States Government Work\" under the\n",
            "*  terms of the United States Copyright Act.  It was written as part of\n",
            "*  the author's official duties as a United States Government employee and\n"
          ],
          "name": "stdout"
        }
      ]
    },
    {
      "cell_type": "code",
      "metadata": {
        "colab": {
          "base_uri": "https://localhost:8080/"
        },
        "id": "7W6H5jkM2Mu2",
        "outputId": "17fce089-e9b8-4d09-a6d1-9da9edc0e579"
      },
      "source": [
        "pip install bioc"
      ],
      "execution_count": 2,
      "outputs": [
        {
          "output_type": "stream",
          "text": [
            "Requirement already satisfied: bioc in /usr/local/lib/python3.6/dist-packages (1.3.6)\n",
            "Requirement already satisfied: docutils==0.15.2 in /usr/local/lib/python3.6/dist-packages (from bioc) (0.15.2)\n",
            "Requirement already satisfied: jsonlines==1.2.0 in /usr/local/lib/python3.6/dist-packages (from bioc) (1.2.0)\n",
            "Requirement already satisfied: lxml==4.4.1 in /usr/local/lib/python3.6/dist-packages (from bioc) (4.4.1)\n",
            "Requirement already satisfied: six in /usr/local/lib/python3.6/dist-packages (from jsonlines==1.2.0->bioc) (1.15.0)\n"
          ],
          "name": "stdout"
        }
      ]
    },
    {
      "cell_type": "code",
      "metadata": {
        "id": "Wj3HlFm827ba"
      },
      "source": [
        "filename = 'litcovid2pubtator.xml'"
      ],
      "execution_count": 1,
      "outputs": []
    },
    {
      "cell_type": "code",
      "metadata": {
        "colab": {
          "base_uri": "https://localhost:8080/"
        },
        "id": "AQGdhU3P2_eo",
        "outputId": "91640948-face-4a9c-b187-561fe55b379b"
      },
      "source": [
        "from nltk import tokenize\r\n",
        "nltk.download('punkt')\r\n",
        "import collections\r\n",
        "import uuid "
      ],
      "execution_count": 139,
      "outputs": [
        {
          "output_type": "stream",
          "text": [
            "[nltk_data] Downloading package punkt to /root/nltk_data...\n",
            "[nltk_data]   Package punkt is already up-to-date!\n"
          ],
          "name": "stdout"
        }
      ]
    },
    {
      "cell_type": "code",
      "metadata": {
        "id": "ByrumRxv2Y7K"
      },
      "source": [
        "import bioc\r\n",
        "# read from a ByteIO\r\n",
        "with open(filename, 'rb') as fp:\r\n",
        "    reader = bioc.BioCXMLDocumentReader(fp)\r\n",
        "    collection_info = reader.get_collection_info()\r\n",
        "    for document in reader:\r\n",
        "        print(document)\r\n",
        "        "
      ],
      "execution_count": null,
      "outputs": []
    },
    {
      "cell_type": "code",
      "metadata": {
        "colab": {
          "base_uri": "https://localhost:8080/"
        },
        "id": "1M2vOd0e3WPy",
        "outputId": "cfb08ff0-e385-4061-98bc-fbf480a7e77c"
      },
      "source": [
        "document.passages[1].annotations[2]"
      ],
      "execution_count": 42,
      "outputs": [
        {
          "output_type": "execute_result",
          "data": {
            "text/plain": [
              "BioCAnnotation[id=18,text='pneumonia',infons=[Identifier=MESH:D011014,type=Disease],locations=[BioCLocation[offset=138,length=9]],]"
            ]
          },
          "metadata": {
            "tags": []
          },
          "execution_count": 42
        }
      ]
    },
    {
      "cell_type": "code",
      "metadata": {
        "id": "GnLnAG-z7XyT"
      },
      "source": [
        "def get_lens_passage(passage):\r\n",
        "  sentences = tokenize.sent_tokenize(passage.text)\r\n",
        "  lens_sentences = []\r\n",
        "  ids_sentences = []\r\n",
        "  for sentence in sentences:\r\n",
        "    lens_sentences.append(len(sentence))\r\n",
        "    ids_sentences.append(uuid.uuid4())\r\n",
        "  return(lens_sentences,sentences, ids_sentences)"
      ],
      "execution_count": 142,
      "outputs": []
    },
    {
      "cell_type": "code",
      "metadata": {
        "id": "LjX1UGFp9qYn"
      },
      "source": [
        "def extract_annotations_passage(passage, type_of_annotation='MESH'):\r\n",
        "  annotations_processed = []\r\n",
        "  for annotation in passage.annotations:\r\n",
        "    tmp =  {k.lower(): v for k, v in annotation.infons.items()}\r\n",
        "    if type_of_annotation in tmp['identifier']:\r\n",
        "      identifier = annotation.infons['identifier']\r\n",
        "      type_of_identifier = annotation.infons['type']\r\n",
        "      locations = []\r\n",
        "      for location in annotation.locations:\r\n",
        "        locations.append(location.offset)\r\n",
        "      text = annotation.text\r\n",
        "      annotations_processed.append({'identifier': identifier,\r\n",
        "                                    'type_of_identifier': type_of_identifier,\r\n",
        "                                    'locations': locations,\r\n",
        "                                    'text': text})\r\n",
        "  if len(annotations_processed) > 0:\r\n",
        "    return(annotations_processed)\r\n",
        "  else:\r\n",
        "    return None"
      ],
      "execution_count": 68,
      "outputs": []
    },
    {
      "cell_type": "code",
      "metadata": {
        "id": "z0d7QfsjKeiZ"
      },
      "source": [
        "def match_annotations_sentences(passage, file_handler=None):\r\n",
        "  annotations_processed = extract_annotations_passage(passage)\r\n",
        "  lens_sentences, sentences,ids_sentences = get_lens_passage(passage)\r\n",
        "  if file_handler is not None:\r\n",
        "    for i in range(len(sentences)):\r\n",
        "      file_handler.write(str(ids_sentences[i]) + '\\t' + sentences[i])\r\n",
        "  else:\r\n",
        "    for i in range(len(sentences)):\r\n",
        "      print(str(ids_sentences[i]) + '\\t' + sentences[i])\r\n",
        "  dict_annotations = collections.defaultdict(set)\r\n",
        "  offsets_sentences = []\r\n",
        "  for i in range(len(lens_sentences)):\r\n",
        "    if i == 0:\r\n",
        "      offsets_sentences.append(lens_sentences[i]) \r\n",
        "    else:\r\n",
        "      offsets_sentences.append(lens_sentences[i]+offsets_sentences[i-1])\r\n",
        "  for annotation in annotations_processed:\r\n",
        "    min_location = min(annotation['locations'])\r\n",
        "    #print(min_location)\r\n",
        "    location_annotation = next((x[0] for x in enumerate(offsets_sentences) if x[1] >= min_location), len(offsets_sentences)-1)\r\n",
        "    dict_annotations[annotation['identifier']].add(str(ids_sentences[location_annotation]))\r\n",
        "  print(dict_annotations)\r\n"
      ],
      "execution_count": 156,
      "outputs": []
    },
    {
      "cell_type": "code",
      "metadata": {
        "id": "JmQGavEw_9of"
      },
      "source": [
        "tmp_passage1 = extract_annotations_passage(document.passages[1])"
      ],
      "execution_count": 117,
      "outputs": []
    },
    {
      "cell_type": "code",
      "metadata": {
        "id": "3dtBOcv7Uyg3"
      },
      "source": [
        "lens,_ = get_lens_passage(document.passages[1])"
      ],
      "execution_count": 131,
      "outputs": []
    },
    {
      "cell_type": "code",
      "metadata": {
        "colab": {
          "base_uri": "https://localhost:8080/"
        },
        "id": "Wj1-31pXHSiJ",
        "outputId": "44a52618-79a5-42bb-ae1b-13e14dcb0e96"
      },
      "source": [
        "match_annotations_sentences(document.passages[1])"
      ],
      "execution_count": 157,
      "outputs": [
        {
          "output_type": "stream",
          "text": [
            "0c0e34a1-b961-4866-96f3-8b4794a76fa0\tNovel coronavirus disease 2019 (COVID-19) is known to cause severe pneumonia and acute respiratory distress syndrome which may lead to death.\n",
            "e14da967-1b57-4f3b-816d-0068f1a01914\tSeveral treatments have been tested in the race to find a treatment regimen for this deadly viral infection.\n",
            "7136ab30-5879-464f-8c67-ee39f5b4647c\tTocilizumab, a recombinant humanized anti-interleukin-6 receptor monoclonal antibody, has been used and found to be beneficial in patients with COVID-19 and in cytokine storm.\n",
            "afd8be1b-68b3-4773-bdb3-6a80a3c574e9\tWe present the case of a young, otherwise healthy male, presenting with COVID-19 and successfully treated in the intensive care unit with tocilizumab.\n",
            "defaultdict(<class 'set'>, {'MESH:C000657245': {'afd8be1b-68b3-4773-bdb3-6a80a3c574e9', '0c0e34a1-b961-4866-96f3-8b4794a76fa0'}, 'MESH:D011014': {'0c0e34a1-b961-4866-96f3-8b4794a76fa0'}, 'MESH:D012128': {'e14da967-1b57-4f3b-816d-0068f1a01914'}, 'MESH:D003643': {'e14da967-1b57-4f3b-816d-0068f1a01914'}, 'MESH:D001102': {'7136ab30-5879-464f-8c67-ee39f5b4647c'}, 'MESH:C502936': {'afd8be1b-68b3-4773-bdb3-6a80a3c574e9', '7136ab30-5879-464f-8c67-ee39f5b4647c'}})\n"
          ],
          "name": "stdout"
        }
      ]
    }
  ]
}