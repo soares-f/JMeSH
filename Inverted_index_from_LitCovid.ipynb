{
  "nbformat": 4,
  "nbformat_minor": 0,
  "metadata": {
    "colab": {
      "name": "Inverted_index_from_LitCovid.ipynb",
      "provenance": [],
      "collapsed_sections": [],
      "mount_file_id": "https://github.com/soares-f/JMeSH/blob/main/Inverted_index_from_LitCovid.ipynb",
      "authorship_tag": "ABX9TyNkJVV+eRozJ/Xrl3RxkxXG",
      "include_colab_link": true
    },
    "kernelspec": {
      "name": "python3",
      "display_name": "Python 3"
    }
  },
  "cells": [
    {
      "cell_type": "markdown",
      "metadata": {
        "id": "view-in-github",
        "colab_type": "text"
      },
      "source": [
        "<a href=\"https://colab.research.google.com/github/soares-f/JMeSH/blob/main/Inverted_index_from_LitCovid.ipynb\" target=\"_parent\"><img src=\"https://colab.research.google.com/assets/colab-badge.svg\" alt=\"Open In Colab\"/></a>"
      ]
    },
    {
      "cell_type": "markdown",
      "metadata": {
        "id": "Ly_3wkUF1lfh"
      },
      "source": [
        "Extracting LitCovid in local env\r\n",
        "\r\n",
        "\r\n"
      ]
    },
    {
      "cell_type": "code",
      "metadata": {
        "colab": {
          "base_uri": "https://localhost:8080/"
        },
        "id": "vyaB_bjT3_GM",
        "outputId": "75dd783c-a7ee-4075-8b5a-c225ed814f4c"
      },
      "source": [
        "!wget https://ftp.ncbi.nlm.nih.gov/pub/lu/LitCovid/litcovid2pubtator.xml.gz"
      ],
      "execution_count": 1,
      "outputs": [
        {
          "output_type": "stream",
          "text": [
            "--2021-02-01 09:36:29--  https://ftp.ncbi.nlm.nih.gov/pub/lu/LitCovid/litcovid2pubtator.xml.gz\n",
            "Resolving ftp.ncbi.nlm.nih.gov (ftp.ncbi.nlm.nih.gov)... 130.14.250.13, 2607:f220:41e:250::13, 2607:f220:41e:250::11, ...\n",
            "Connecting to ftp.ncbi.nlm.nih.gov (ftp.ncbi.nlm.nih.gov)|130.14.250.13|:443... connected.\n",
            "HTTP request sent, awaiting response... 200 OK\n",
            "Length: 588582956 (561M) [application/x-gzip]\n",
            "Saving to: ‘litcovid2pubtator.xml.gz’\n",
            "\n",
            "litcovid2pubtator.x 100%[===================>] 561.32M  34.4MB/s    in 17s     \n",
            "\n",
            "2021-02-01 09:36:46 (33.1 MB/s) - ‘litcovid2pubtator.xml.gz’ saved [588582956/588582956]\n",
            "\n"
          ],
          "name": "stdout"
        }
      ]
    },
    {
      "cell_type": "code",
      "metadata": {
        "id": "BbISAQ1a0q1r"
      },
      "source": [
        "!gunzip litcovid2pubtator.xml.gz"
      ],
      "execution_count": 2,
      "outputs": []
    },
    {
      "cell_type": "code",
      "metadata": {
        "colab": {
          "base_uri": "https://localhost:8080/"
        },
        "id": "mo_18JAD4bIq",
        "outputId": "f2c8c037-c41d-42ca-cb5b-b507c3b5b23d"
      },
      "source": [
        "!ls -lh"
      ],
      "execution_count": null,
      "outputs": [
        {
          "output_type": "stream",
          "text": [
            "total 2.8G\n",
            "drwx------ 5 root root 4.0K Jan 19 21:37 drive\n",
            "-rw-r--r-- 1 root root 2.8G Jan 19 19:32 litcovid2pubtator.xml\n",
            "drwxr-xr-x 1 root root 4.0K Jan 15 17:28 sample_data\n"
          ],
          "name": "stdout"
        }
      ]
    },
    {
      "cell_type": "code",
      "metadata": {
        "colab": {
          "base_uri": "https://localhost:8080/"
        },
        "id": "7W6H5jkM2Mu2",
        "outputId": "14b3d36c-f058-47b1-a02d-2e72c49d0402"
      },
      "source": [
        "pip install bioc"
      ],
      "execution_count": 1,
      "outputs": [
        {
          "output_type": "stream",
          "text": [
            "Requirement already satisfied: bioc in /usr/local/lib/python3.6/dist-packages (1.3.6)\n",
            "Requirement already satisfied: jsonlines==1.2.0 in /usr/local/lib/python3.6/dist-packages (from bioc) (1.2.0)\n",
            "Requirement already satisfied: lxml==4.4.1 in /usr/local/lib/python3.6/dist-packages (from bioc) (4.4.1)\n",
            "Requirement already satisfied: docutils==0.15.2 in /usr/local/lib/python3.6/dist-packages (from bioc) (0.15.2)\n",
            "Requirement already satisfied: six in /usr/local/lib/python3.6/dist-packages (from jsonlines==1.2.0->bioc) (1.15.0)\n"
          ],
          "name": "stdout"
        }
      ]
    },
    {
      "cell_type": "code",
      "metadata": {
        "id": "Wj3HlFm827ba"
      },
      "source": [
        "filename = 'litcovid2pubtator.xml'"
      ],
      "execution_count": 2,
      "outputs": []
    },
    {
      "cell_type": "code",
      "metadata": {
        "colab": {
          "base_uri": "https://localhost:8080/"
        },
        "id": "AQGdhU3P2_eo",
        "outputId": "85fce5a1-9b1d-4aa3-b0d8-ed7893da2c25"
      },
      "source": [
        "from nltk import tokenize\r\n",
        "import nltk\r\n",
        "nltk.download('punkt')\r\n",
        "import collections\r\n",
        "import uuid\r\n",
        "import re"
      ],
      "execution_count": 3,
      "outputs": [
        {
          "output_type": "stream",
          "text": [
            "[nltk_data] Downloading package punkt to /root/nltk_data...\n",
            "[nltk_data]   Package punkt is already up-to-date!\n"
          ],
          "name": "stdout"
        }
      ]
    },
    {
      "cell_type": "code",
      "metadata": {
        "id": "ByrumRxv2Y7K"
      },
      "source": [
        "import bioc\r\n",
        "import io\r\n",
        "# read from a ByteIO\r\n",
        "all_passages = []\r\n",
        "with open(filename, 'rb') as fp:\r\n",
        "  reader = bioc.BioCXMLDocumentReader(fp)\r\n",
        "  collection_info = reader.get_collection_info()\r\n",
        "  i = 0\r\n",
        "  for document in reader:\r\n",
        "    for passage in document.passages:\r\n",
        "      try:\r\n",
        "        tmp = process_passage(passage)\r\n",
        "        if tmp is not None:\r\n",
        "          all_passages.append(tmp)\r\n",
        "      except:\r\n",
        "        pass\r\n",
        "    i+=1\r\n",
        "    print(i)\r\n",
        "    if i %25000==0:\r\n",
        "          break\r\n"
      ],
      "execution_count": null,
      "outputs": []
    },
    {
      "cell_type": "code",
      "metadata": {
        "id": "VljoCEAm_uZA"
      },
      "source": [
        "import pickle\r\n",
        "with open('/content/drive/MyDrive/Research/BLAH7/version2/processed_25k', 'wb') as handle:\r\n",
        "    pickle.dump(all_passages, handle, protocol=pickle.HIGHEST_PROTOCOL)"
      ],
      "execution_count": 8,
      "outputs": []
    },
    {
      "cell_type": "code",
      "metadata": {
        "id": "6BmTs0_5SCRf"
      },
      "source": [
        "import pickle\r\n",
        "with open('/content/drive/MyDrive/Research/BLAH7/version2/processed_25k', 'rb') as handle:\r\n",
        "    all_passages = pickle.load(handle)"
      ],
      "execution_count": null,
      "outputs": []
    },
    {
      "cell_type": "code",
      "metadata": {
        "id": "ljvmHR0BHcd7"
      },
      "source": [
        "text = '<tag id=MESH:D016638>Critical illness</tag>-associated cerebral microbleeds in severe <tag id=MESH:C000657245>COVID-19</tag> <tag id=MESH:D007239>infection</tag>'\r\n"
      ],
      "execution_count": 63,
      "outputs": []
    },
    {
      "cell_type": "code",
      "metadata": {
        "id": "ot1weEFSGnmH"
      },
      "source": [
        "import requests\r\n",
        "headers = {'Content-type': 'application/x-www-form-urlencoded'}\r\n",
        "files = {\r\n",
        "    'text' : [text,text],\r\n",
        "    'auth_key': '37da81f1-24a5-3846-f387-46eccf79d761',\r\n",
        "    'target_lang': 'JA',\r\n",
        "    'tag_handling': 'xml',\r\n",
        "    'split_sentences': 0\r\n",
        "}\r\n",
        "\r\n",
        "response2 = requests.post('https://api.deepl.com/v2/translate', data=files, headers = headers)"
      ],
      "execution_count": 73,
      "outputs": []
    },
    {
      "cell_type": "code",
      "metadata": {
        "id": "1M2vOd0e3WPy"
      },
      "source": [
        "def process_passage(passage,type_of_annotation='MESH'):\r\n",
        "  dict_passage = collections.defaultdict(list)\r\n",
        "  initial_text = passage.text\r\n",
        "  dict_passage['annotations'] = []\r\n",
        "  for annotation in passage.annotations:\r\n",
        "    tmp =  {k.lower(): v for k, v in annotation.infons.items()}\r\n",
        "    if type_of_annotation in tmp['identifier']:\r\n",
        "      annotation_text = annotation.text\r\n",
        "      annotation_identifier = tmp['identifier']\r\n",
        "      annotation_id = annotation.id\r\n",
        "      dict_passage['annotations'].append({'text':annotation_text,\r\n",
        "                                              'identifier': annotation_identifier,\r\n",
        "                                              'id': annotation_id})\r\n",
        "  if len(dict_passage['annotations']) > 0:\r\n",
        "    new_text = initial_text\r\n",
        "    for item in dict_passage['annotations']:\r\n",
        "      new_text = re.sub(r\"(?<!>){}\".format(item['text']), f\"<tag id={item['identifier']}>{item['text']}</tag>\", new_text)\r\n",
        "    dict_passage['initial_text'] = initial_text\r\n",
        "    dict_passage['initial_text_uuid'] = str(uuid.uuid4())\r\n",
        "    dict_passage['new_text'] = new_text\r\n",
        "    return(dict_passage)\r\n",
        "\r\n",
        "  else:\r\n",
        "    return(None)\r\n",
        "\r\n"
      ],
      "execution_count": 4,
      "outputs": []
    }
  ]
}